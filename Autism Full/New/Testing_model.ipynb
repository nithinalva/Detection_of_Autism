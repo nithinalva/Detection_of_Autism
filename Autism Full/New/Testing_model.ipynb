{
 "cells": [
  {
   "cell_type": "code",
   "execution_count": 1,
   "metadata": {},
   "outputs": [],
   "source": [
    "import pickle"
   ]
  },
  {
   "cell_type": "code",
   "execution_count": 3,
   "metadata": {},
   "outputs": [],
   "source": [
    "model = pickle.load(open(\"model/DT_model.sav\",'rb'))"
   ]
  },
  {
   "cell_type": "code",
   "execution_count": 4,
   "metadata": {},
   "outputs": [],
   "source": [
    "data = []"
   ]
  },
  {
   "cell_type": "code",
   "execution_count": 5,
   "metadata": {},
   "outputs": [],
   "source": [
    "q = ['Doesyourchildlookatyouwhenyoucall his/hername?', \n",
    "     'Howeasyisitforyoutogeteyecontactwithyourchild?', \n",
    "     'Doesyourchildpointtoindicatethats/hewantssomething?(e.g.atoythatisoutofreach',\n",
    "     'Doesyourchildpointtoshareinterestwithyou?(e.g.poin9ngataninteres9ngsight)', \n",
    "     'Doesyourchildpretend?(e.g.carefordolls,talkonatoyphone)',\n",
    "     'Doesyourchildfollowwhereyou’relooking?',\n",
    "     'Ifyouorsomeoneelseinthefamilyisvisiblyupset,doesyourchildshowsignsofwan9ngtocomfortthem?(e.g.strokinghair,huggingthem)',\n",
    "     'Wouldyoudescribeyourchild’sfirstwordsas:',\n",
    "     'Doesyourchildusesimplegestures?(e.g.wavegoodbye)', \n",
    "     'Doesyourchildstareatnothingwithnoapparentpurpose?',\n",
    "     'Age_Mons',\n",
    "       'Sex', 'Jaundice', \n",
    "     'Family_mem_with_ASD', \n",
    "     'Who_completed_the_test']"
   ]
  },
  {
   "cell_type": "code",
   "execution_count": 6,
   "metadata": {},
   "outputs": [
    {
     "name": "stdout",
     "output_type": "stream",
     "text": [
      "Doesyourchildlookatyouwhenyoucall his/hername?0\n",
      "Howeasyisitforyoutogeteyecontactwithyourchild?3\n",
      "plz Enter valid data \n",
      "Howeasyisitforyoutogeteyecontactwithyourchild?0\n",
      "Doesyourchildpointtoindicatethats/hewantssomething?(e.g.atoythatisoutofreach1\n",
      "Doesyourchildpointtoshareinterestwithyou?(e.g.poin9ngataninteres9ngsight)1\n",
      "Doesyourchildpretend?(e.g.carefordolls,talkonatoyphone)1\n",
      "Doesyourchildfollowwhereyou’relooking?1\n",
      "Ifyouorsomeoneelseinthefamilyisvisiblyupset,doesyourchildshowsignsofwan9ngtocomfortthem?(e.g.strokinghair,huggingthem)1\n",
      "Wouldyoudescribeyourchild’sfirstwordsas:1\n",
      "Doesyourchildusesimplegestures?(e.g.wavegoodbye)1\n",
      "Doesyourchildstareatnothingwithnoapparentpurpose?1\n",
      "Age_Mons16\n",
      "Sex1\n",
      "Jaundice1\n",
      "Family_mem_with_ASD1\n",
      "Who_completed_the_test2\n"
     ]
    }
   ],
   "source": [
    "for i in q:\n",
    "    n = int(input(i))\n",
    "    if n==0 or n==1:\n",
    "        data.append(n)\n",
    "    else:\n",
    "        if i == 'Age_Mons' or i == 'Who_completed_the_test':\n",
    "            data.append(n)\n",
    "        else:\n",
    "            print(\"plz Enter valid data \")\n",
    "            n = int(input(i))\n",
    "            data.append(n)"
   ]
  },
  {
   "cell_type": "code",
   "execution_count": 7,
   "metadata": {},
   "outputs": [],
   "source": [
    "da = [data]"
   ]
  },
  {
   "cell_type": "code",
   "execution_count": 8,
   "metadata": {},
   "outputs": [],
   "source": [
    "result = model.predict(da)"
   ]
  },
  {
   "cell_type": "code",
   "execution_count": 9,
   "metadata": {},
   "outputs": [
    {
     "name": "stdout",
     "output_type": "stream",
     "text": [
      "[1]\n"
     ]
    }
   ],
   "source": [
    "print(result)"
   ]
  },
  {
   "cell_type": "markdown",
   "metadata": {},
   "source": [
    "# Thanks"
   ]
  }
 ],
 "metadata": {
  "kernelspec": {
   "display_name": "Python 3",
   "language": "python",
   "name": "python3"
  },
  "language_info": {
   "codemirror_mode": {
    "name": "ipython",
    "version": 3
   },
   "file_extension": ".py",
   "mimetype": "text/x-python",
   "name": "python",
   "nbconvert_exporter": "python",
   "pygments_lexer": "ipython3",
   "version": "3.7.4"
  }
 },
 "nbformat": 4,
 "nbformat_minor": 2
}
